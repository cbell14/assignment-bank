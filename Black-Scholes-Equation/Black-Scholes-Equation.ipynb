{
 "metadata": {
  "name": "",
  "signature": "sha256:c00e4a0f09be176c098c58a233d544cdbf26fc20d929be401279cfac9c32eea2"
 },
 "nbformat": 3,
 "nbformat_minor": 0,
 "worksheets": [
  {
   "cells": [
    {
     "cell_type": "heading",
     "level": 6,
     "metadata": {},
     "source": [
      "Content under Creative Commons Attribution license CC-BY 4.0, code under MIT license (c) 2014 Tingyu Wang."
     ]
    },
    {
     "cell_type": "heading",
     "level": 1,
     "metadata": {},
     "source": [
      "Black-Scholes Equation"
     ]
    },
    {
     "cell_type": "markdown",
     "metadata": {},
     "source": [
      "In the class, we discussed how to use numerical methods to solve wave propagation problems and heat equation, which both represent a physical phenomenon. In fact, this powerful tool is not only widely applied by engineers and physicists, but also by traders in a stock market and economists working for the government. Economists would build their own financial models in PDE to estimate future economic growth for each year, and PDE solvers can give traders a sketch about the price of a stock or an option. \n",
      "\n",
      "Black-Scholes equation is one of the most important models concerning the option pricing. It was first published by *Fischer Black* and *Myron Scholes* in 1973. I first read this equation through a book called \"*17 equations that changed the world*\"."
     ]
    },
    {
     "cell_type": "heading",
     "level": 5,
     "metadata": {},
     "source": [
      "What is Black-Scholes Equation?"
     ]
    },
    {
     "cell_type": "markdown",
     "metadata": {},
     "source": [
      "Before we introduce the equation, let us start with some important terminologies behind the equation. **Options** are used on markets and exchanges. From the definition in Wikipedia, an option is a contract which gives the buyer (the owner) *the right*, but not the obligation, to buy or sell *an underlying asset* at *a specified price* on or before *a specified date*. We call the price determined in the contract \"**exercise price** (or **strike price**) ($E$), and call the date \"**the expiry time** ($T$)\". The underlying asset has its own value, and we denote **the current value of underlying asset** as ($S$). If the asset is a car, then $S$ may be equal to the present value of the car, say 20,000 dollars. If the asset is a stock, then $S$ is equal to the current price of the stock (find it in Nasdaq, Dow or S&P).\n",
      "\n",
      "From the definition, we know that the owner of the option can buy or sell some amount of assets on or before the expiry time. We call it an **European option** if the option can only be executed on the expiry time ($t_{exercise} = T$). If it is an **American option**, than means it can be exercised at any time before the expiry time($t_{exercise} \\leq T$). \n",
      "\n",
      "We can understand the option as a right or a priviledge, so the option itself should also have a price, \"**the price of an option** ($V$)\", which depends on the current value of underlying asset ($S$) and time ($t$): $V = V(S,t)$. Notice that there is a \"*buy* or *sell*\" in the definition of option above. If the owner of the option has the right to buy some shares of Apple's stock at 50 dollars per share from the buyer before Feb 1, 2015, then this type of option is called **call option**. We use $C(S,t)$ instead of $V(S,t)$. If the owner of option has the right to \"sell\", then this type of option is called **put option**. We denote it as $P(S,t)$ instead of $V(S,t)$. Click the short video below for real-world examples of call options and put options."
     ]
    },
    {
     "cell_type": "code",
     "collapsed": false,
     "input": [
      "from IPython.display import YouTubeVideo\n",
      "YouTubeVideo('EfmTWu2yn5Q')"
     ],
     "language": "python",
     "metadata": {},
     "outputs": [
      {
       "html": [
        "\n",
        "        <iframe\n",
        "            width=\"400\"\n",
        "            height=300\"\n",
        "            src=\"https://www.youtube.com/embed/EfmTWu2yn5Q\"\n",
        "            frameborder=\"0\"\n",
        "            allowfullscreen\n",
        "        ></iframe>\n",
        "        "
       ],
       "metadata": {},
       "output_type": "pyout",
       "prompt_number": 44,
       "text": [
        "<IPython.lib.display.YouTubeVideo at 0x1098ed2d0>"
       ]
      }
     ],
     "prompt_number": 44
    },
    {
     "cell_type": "markdown",
     "metadata": {},
     "source": [
      "Finally, we introduce the *Black-Scholes* equation as follows.\n",
      "\n",
      "$$\\begin{equation}\n",
      "\\frac{\\partial V}{\\partial t}(S, t) + \\frac{1}{2} \\sigma^2 S^2 \\frac{\\partial^2 V}{\\partial S^2}(S, t) + rS \\frac{\\partial V}{\\partial S}(S, t) - rV(S, t) = 0\n",
      "\\end{equation}$$\n",
      " \n",
      "$V$ stands for the price of the option, $S$ denotes current value of underlying assets, $t$ is time, $r$ denotes the no-risk interest rate (*ex*.saving rate in bank), and $\\sigma$ denotes the volatility of underlying asset (*ex*.the standard deviation of the stock's returns).\n",
      "\n",
      "\n",
      "As you can see, the Black-Scholes equation is aimed at calculating the price of an option, so it is the most popular option-pricing method. The only unknown here is the price of option ($V$), depending on $S$ and $t$. In the following part, we will use finite difference methods (both explicit and implicit schemes) to solve this nonlinear second-order parabolic equation. \n",
      " "
     ]
    },
    {
     "cell_type": "heading",
     "level": 5,
     "metadata": {},
     "source": [
      "Initial Conditions"
     ]
    },
    {
     "cell_type": "markdown",
     "metadata": {},
     "source": [
      "Now, consider we are holding an **European**, **call** option $C(S,t)$ of a stock and we are at the expiry time: $t=T$.\n",
      "\n",
      "- If the current price of the stock ($S$) > exercise price ($E$), then we definitely want to execute our right to buy the stock at the price $E$, and the profit we gain from the option is $S-E$.\n",
      "\n",
      "- If the current price of the stock ($S$) < exercise price ($E$), then there is no need to exercise the call option, therefore, in this case the value of this option is zero.\n",
      "\n",
      "Thus, for a call option, \n",
      "\n",
      "$$C(S,T) = max(S-E,0)$$\n",
      "\n",
      "This is the final condition for the Black-Scholes equation, however, usually we prefer to deal with an inital condition with a form of $C(S,0) = f(S)$. So here we apply change of variables:\n",
      "\n",
      "$$ t^*(t) = T - t$$\n",
      "\n",
      "then, \n",
      "\n",
      "$$\\frac{\\partial V(S,t)}{\\partial t} = - \\frac{\\partial V(S,t^*)}{\\partial t^*}$$\n",
      "\n",
      "substitute in the Black-Scholes equation:\n",
      "\n",
      "$$-\\frac{\\partial V}{\\partial t^*}(S, t^*) + \\frac{1}{2} \\sigma^2 S^2 \\frac{\\partial^2 V}{\\partial S^2}(S, t^*) + rS \\frac{\\partial V}{\\partial S}(S, t^*) - rV(S, t^*) = 0 $$\n",
      "\n",
      "changing the sign, and use $C$ instead of $V$ since it is a call option:\n",
      "\n",
      "$$\\frac{\\partial C}{\\partial t^*}(S, t^*) - \\frac{1}{2} \\sigma^2 S^2 \\frac{\\partial^2 C}{\\partial S^2}(S, t^*) - rS \\frac{\\partial C}{\\partial S}(S, t^*) + rC(S, t^*) = 0 $$\n",
      "\n",
      "with an initial condition: $C(S,0) = max(S-E,0)$. Be careful that this initial condition reflects the expiry moment $t = T$, and when we are stepping forward to calculate the last time step in $t^*$, we are actually calculating the price of the call option at $t =0$ (that is when we are buying an option)."
     ]
    },
    {
     "cell_type": "heading",
     "level": 5,
     "metadata": {},
     "source": [
      "Boundary Conditions"
     ]
    },
    {
     "cell_type": "markdown",
     "metadata": {},
     "source": [
      "In order to make it a well-posed partial differential equation, we need to define the boundary conditions on both sides. The current price of the stock $S$ can take value in the interval $[0,\\infty)$, which is unbounded. \n",
      "\n",
      "- left boundary: $S=0$, then $C(0,t^*) = 0$\n",
      "- right boundary: $S\\rightarrow \\infty$, then $C(S,t^*) = (S-E) $\n",
      "\n",
      "However, in the numerical method, we need to set an artificial bound $S_{max}$ concerning the space discretization, otherwise we will have inifinity number of grids. Based on Dura's work [ref 1], it is recommended to set $S_{max}$ around four times the exercise price $E$. Here we assume that \n",
      "\n",
      "$$S_{max} = 4E $$\n",
      "\n",
      "thus, the boundary conditions can be written as follows:\n",
      "\n",
      "$$\\begin{cases}\n",
      "C(0,t^*) = 0\\\\\n",
      "C(S_{max},t^*) = S_{max} - E\\\\\n",
      "\\end{cases}$$"
     ]
    },
    {
     "cell_type": "heading",
     "level": 5,
     "metadata": {},
     "source": [
      "Problem Statement"
     ]
    },
    {
     "cell_type": "markdown",
     "metadata": {},
     "source": [
      "Now let's solve a practical problem using our numerical skills! \n",
      "\n",
      "Consider an European call style option is made for a stock currently trading at 20 dollar per share with volatility 0.4. The term is 3 months (0.25 year) and the strike price is 10 dollar. The prevailing no-risk interest rate is 10 %. What should the price per share be for the option?"
     ]
    },
    {
     "cell_type": "code",
     "collapsed": false,
     "input": [
      "%matplotlib inline\n",
      "import numpy\n",
      "import matplotlib.pyplot as pyplot\n",
      "from matplotlib import rcParams\n",
      "rcParams['figure.dpi'] = 100\n",
      "rcParams['font.size'] = 16\n",
      "rcParams['font.family'] = 'StixGeneral'\n",
      "\n",
      "T = 0.25       # expiry time\n",
      "r = 0.1        # no-risk interest rate\n",
      "sigma = 0.4    # volatility of underlying asset\n",
      "E = 10.        # exercise price\n",
      "S_max = 4*E    # upper bound of price of the stock (4*E)"
     ],
     "language": "python",
     "metadata": {},
     "outputs": [],
     "prompt_number": 45
    },
    {
     "cell_type": "heading",
     "level": 5,
     "metadata": {},
     "source": [
      "Explicit Scheme"
     ]
    },
    {
     "cell_type": "markdown",
     "metadata": {},
     "source": [
      "For the explicit method, we use a forward difference scheme in time $t$, and a central difference scheme in the current price of underlying asset $S$. The truncation error here is second-order in space and first-order in time $O(\\Delta t, \\Delta S^2)$. Write out discretized form for each term:\n",
      "\n",
      "$$\\begin{equation}\n",
      "\\frac{\\partial C}{\\partial t^*} = \\frac{C_i^{n+1} - C_i^{n}}{\\Delta t}\\\\\n",
      "\\frac{\\partial C}{\\partial S} = \\frac{C_{i+1}^{n} - C_{i-1}^{n}}{2\\Delta S}\\\\\n",
      "\\frac{\\partial^2 C}{\\partial S^2} = \\frac{C_{i+1}^{n} - 2C_i^{n} + C_{i-1}^{n}}{(\\Delta S)^2}\\\\\n",
      "\\end{equation}$$\n",
      "\n",
      "the discretized Black-Scholes equation:\n",
      "$$\\frac{C_i^{n+1} - C_i^{n}}{\\Delta t} - \\frac{1}{2} \\sigma^2 S^2 \\frac{C_{i+1}^{n} - 2C_i^{n} + C_{i-1}^{n}}{(\\Delta S)^2} - rS \\frac{C_{i+1}^{n} - C_{i-1}^{n}}{2\\Delta S} + rC_i^{n} = 0 $$\n",
      "\n",
      "since $S=i \\Delta S$, we can rearrange the above equation as:\n",
      "\n",
      "$$\\frac{C_i^{n+1} - C_i^{n}}{\\Delta t} - \\frac{1}{2} \\sigma^2 i^2 (C_{i+1}^{n} - 2C_i^{n} + C_{i-1}^{n}) - \\frac{1}{2} ri (C_{i+1}^{n} - C_{i-1}^{n}) + rC_i^{n} = 0 $$\n",
      "\n",
      "the option price at the next time step can be expressed as:\n",
      "$$\\begin{equation}\n",
      "C_i^{n+1} = \\frac{1}{2}(\\sigma^2 i^2 \\Delta t-ri\\Delta t)C_{i-1}^n + (1 - \\sigma^2 i^2 \\Delta t -r \\Delta t) C_i^n + \\frac{1}{2}(\\sigma^2 i^2 \\Delta t+ri\\Delta t)C_{i+1}^n \n",
      "\\end{equation}$$"
     ]
    },
    {
     "cell_type": "code",
     "collapsed": false,
     "input": [
      "def FTCS(C, N, M, dt, r, sigma):\n",
      "    \"\"\"using forward-time central-space scheme to solve the Black-Scholes equation for the call option price\n",
      "    \n",
      "    Arguments:\n",
      "        C:       array of the price of call option\n",
      "        N:       total number of time steps\n",
      "        M:       total number of spatials grids\n",
      "        dt:      time step\n",
      "        r:       no-risk interest rate\n",
      "        sigma:   volatility of the stock\n",
      "    \n",
      "    Returns:\n",
      "        C:       array of the price of call option\n",
      "    \"\"\"\n",
      "    index = numpy.arange(1,M)\n",
      "    for n in range(N):\n",
      "\n",
      "        C[1:-1] = 0.5 * (sigma**2 * index**2 * dt - r*index*dt) * C[0:-2] \\\n",
      "             +       (1 - sigma**2* index**2 *dt - r*dt) * C[1:-1]   \\\n",
      "             + 0.5 * (sigma**2 * index**2 * dt + r*index*dt) * C[2:]\n",
      "    return C"
     ],
     "language": "python",
     "metadata": {},
     "outputs": [],
     "prompt_number": 46
    },
    {
     "cell_type": "markdown",
     "metadata": {},
     "source": [
      "Keep in mind that we are using an explicit scheme, so start with a small time step to satisfy the stability requirement."
     ]
    },
    {
     "cell_type": "code",
     "collapsed": false,
     "input": [
      "N = 2000       # number of time steps \n",
      "M = 200        # number of space grids\n",
      "dt = T/N       # time step\n",
      "s = numpy.linspace(0, S_max, M+1)   # spatial grid (stock's price)\n",
      "\n",
      "# initial condition & boundary condition\n",
      "C = s - E\n",
      "C = numpy.clip(C, 0, S_max-E)\n"
     ],
     "language": "python",
     "metadata": {},
     "outputs": [],
     "prompt_number": 47
    },
    {
     "cell_type": "markdown",
     "metadata": {},
     "source": [
      "Run the code and calculate the price of the call option when the stock is currently trading at 20 dollars. (See problem statement)"
     ]
    },
    {
     "cell_type": "code",
     "collapsed": false,
     "input": [
      "C_exp = FTCS(C, N, M, dt, r, sigma)\n",
      "print 'the price of the call option should be around {}, \\\n",
      "if the current price of stock is 20 dollar.'.format(C_exp[int(M/2)])"
     ],
     "language": "python",
     "metadata": {},
     "outputs": [
      {
       "output_type": "stream",
       "stream": "stdout",
       "text": [
        "the price of the call option should be around 10.2470001259, if the current price of stock is 20 dollar.\n"
       ]
      }
     ],
     "prompt_number": 48
    },
    {
     "cell_type": "markdown",
     "metadata": {},
     "source": [
      "Let us plot the call option price against the current stock price based on our result."
     ]
    },
    {
     "cell_type": "code",
     "collapsed": false,
     "input": [
      "pyplot.figure(figsize=(8,5), dpi=100)\n",
      "pyplot.plot(s,C_exp,color='#20b2aa', ls='--', lw=3, label='FTCS');\n",
      "pyplot.xlabel('Current Price of the Stock (S)')\n",
      "pyplot.ylabel('Price of the call option (C)')\n",
      "pyplot.legend(loc='upper left',prop={'size':15});"
     ],
     "language": "python",
     "metadata": {},
     "outputs": [
      {
       "metadata": {},
       "output_type": "display_data",
       "png": "[encoded data removed]",
       "text": [
        "<matplotlib.figure.Figure at 0x1065e3f50>"
       ]
      }
     ],
     "prompt_number": 49
    },
    {
     "cell_type": "heading",
     "level": 5,
     "metadata": {},
     "source": [
      "Implicit Scheme"
     ]
    },
    {
     "cell_type": "markdown",
     "metadata": {},
     "source": [
      "As we learned in class that the explicit schemes contraint the size of time step, and they will become unstable if we use a larger $\\Delta t$. That is why we want to solve it in an implicit way that is unconditionally stable. However, the fully implicit scheme only gives us the fisrt-order accurary in time. Remember in the fourth module, we introduced the Crank-Nicolson scheme to solve the heat equation. The Black-Scholes equation and heat equation are both parabolic equations. So why not try to apply Crank-Nicolson scheme in order to achieve a better accurary?\n",
      "\n",
      "$$\\frac{\\partial C}{\\partial t^*}(S, t^*) - \\frac{1}{2} \\sigma^2 S^2 \\frac{\\partial^2 C}{\\partial S^2}(S, t^*) - rS \\frac{\\partial C}{\\partial S}(S, t^*) + rC(S, t^*) = 0 $$\n",
      "\n",
      "Recall that Crank-Nicolson method is an average of implicit scheme and explicit scheme. Based on the discretized form of Black-Scholes equation, we rewrite each partial derivative in space as an average of the schemes in time step $n$ and $n+1$.\n",
      "\n",
      "$$\\frac{C_i^{n+1} - C_i^{n}}{\\Delta t} - \\frac{1}{4} \\sigma^2 S^2 (\\frac{C_{i+1}^{n+1} - 2C_i^{n+1} + C_{i-1}^{n+1}}{(\\Delta S)^2} + \\frac{C_{i+1}^{n} - 2C_i^{n} + C_{i-1}^{n}}{(\\Delta S)^2}) -\\\\ \\frac{1}{2} rS (\\frac{C_{i+1}^{n+1} - C_{i-1}^{n+1}}{2\\Delta S} + \\frac{C_{i+1}^{n} - C_{i-1}^{n}}{2\\Delta S}) + \\frac{1}{2} r (C_i^{n+1}+C_i^{n} )= 0 $$\n",
      "\n",
      "replace $S$ with $i\\Delta S$, and rearrange terms so that all the unknowns (values in $n+1$ time step) are on the LHS:\n",
      "\n",
      "$$\\frac{\\Delta t}{4} (ri-\\sigma^2i^2) C_{i-1}^{n+1} + (1+\\frac{\\Delta t}{2}(r+\\sigma^2i^2))C_i^{n+1} + (-\\frac{\\Delta t}{4}(ri+\\sigma^2i^2))C_{i+1}^{n+1}\\\\= \\frac{\\Delta t}{4} (\\sigma^2i^2-ri) C_{i-1}^{n} + (1-\\frac{\\Delta t}{2}(r+\\sigma^2i^2))C_i^{n} + (\\frac{\\Delta t}{4}(ri+\\sigma^2i^2))C_{i+1}^{n}$$\n",
      "\n",
      "for notation convenience, we define:\n",
      "\n",
      "$$\\alpha_i = \\frac{\\Delta t}{4} (ri-\\sigma^2i^2) \\\\\n",
      "\\beta_i = \\frac{\\Delta t}{2}(r+\\sigma^2i^2)\\\\\n",
      "\\gamma_i = -\\frac{\\Delta t}{4}(ri+\\sigma^2i^2)$$\n",
      "\n",
      "for $i = 1,2,3, ..., M-1$\n",
      "\n",
      "so we can simplify the discretized equation as follows:\n",
      "\n",
      "$$\\alpha_i C_{i-1}^{n+1} + (1+\\beta_i)C_i^{n+1} + \\gamma_i C_{i+1}^{n+1} = -\\alpha_i C_{i-1}^{n} + (1-\\beta_i)C_i^{n} - \\gamma_iC_{i+1}^{n}$$\n",
      "\n",
      "This linear system of equations can be written as: \n",
      "\n",
      "$$ AC^{n+1} = A_*C^{n} + B $$\n",
      "\n",
      "A is the LHS coefficient matrix:\n",
      "\\begin{align}\\left[ \\begin{array}{cccccc}\n",
      " \\left(1+\\beta_1 \\right) & \\gamma_1 & 0 & \\cdots &  0 \\\\\n",
      " \\alpha_2 & \\left(1+\\beta_2 \\right) & \\gamma_2 &  & \\vdots \\\\\n",
      " 0 & \\alpha_3 & \\ddots& \\ddots &  0 \\\\\n",
      " \\vdots & & \\ddots & \\left(1 + \\beta_{M-2}\\right) & \\gamma_{M-2} \\\\\n",
      " 0 & \\cdots & 0 &  \\alpha_{M-1} & \\left(1 + \\beta_{M-1}\\right) \\end{array} \\right]\n",
      "\\end{align} \n"
     ]
    },
    {
     "cell_type": "code",
     "collapsed": false,
     "input": [
      "def LHS_matrix(M, alpha, beta, gamma):\n",
      "    \"\"\"generate and return the LHS coefficient matrix A.\n",
      "    \n",
      "    Arguments:\n",
      "        M:       total number of spatials grids\n",
      "        alpha:   array of coefficients on lower diagnoal\n",
      "        beta:    array of coefficients on diagnoal\n",
      "        gamma:   array of coefficients on upper diagnoal\n",
      "    \n",
      "    Returns:\n",
      "        A:       LHS coefficient matrix\n",
      "    \"\"\"\n",
      "    # diagonal\n",
      "    d = numpy.diag(1+beta)\n",
      "    # upper diagonal\n",
      "    ud = numpy.diag(gamma[:-1], 1)\n",
      "    # lower diagonal\n",
      "    ld = numpy.diag(alpha[1:], -1)\n",
      "    \n",
      "    A = d +ud +ld\n",
      "    return A"
     ],
     "language": "python",
     "metadata": {},
     "outputs": [],
     "prompt_number": 50
    },
    {
     "cell_type": "markdown",
     "metadata": {},
     "source": [
      "At the RHS of the equation, $A_*$ is the coefficient matrix of $C^{n}$ (the call option price array at the previous time step $n$). From above we know matrix $A_*$ is very similar to matrix $A$: \n",
      "\n",
      "\\begin{align}\\left[ \\begin{array}{cccccc}\n",
      " \\left(1-\\beta_1 \\right) & -\\gamma_1 & 0 & \\cdots &  0 \\\\\n",
      " -\\alpha_2 & \\left(1-\\beta_2 \\right) & -\\gamma_2 &  & \\vdots \\\\\n",
      " 0 & -\\alpha_3 & \\ddots& \\ddots &  0 \\\\\n",
      " \\vdots & & \\ddots & \\left(1 - \\beta_{M-2}\\right) & -\\gamma_{M-2} \\\\\n",
      " 0 & \\cdots & 0 &  -\\alpha_{M-1} & \\left(1 - \\beta_{M-1}\\right) \\end{array} \\right]\n",
      "\\end{align} \n",
      "\n",
      "Vector $B$ is the boundary condition vector based on the Dirichlet boundary condition: $C(0,t) = 0, C(S_{max},t) = S_{max} -E$. Consider the total number of spatial grids $M = 200$ (the 201 grid points' indices are from 0 to 200), then the last equation in the linear system should be:\n",
      "\n",
      "$$\\alpha_{199}C_{198}^{n+1} + (1+\\beta_{199})C_{199}^{n+1} + \\gamma_{199}C_{200}^{n+1}  \\\\ = -\\alpha_{199}C_{198}^{n} + (1-\\beta_{199})C_{199}^{n} - \\gamma_{199}C_{200}^{n}$$\n",
      "\n",
      "and we know from the BC that $C_{200}^{n} = C_{200}^{n+1} = (S_{max}-E)$, so rearrange the equation as\uff1a\n",
      "$$\\alpha_{199}C_{198}^{n+1} + (1+\\beta_{199})C_{199}^{n+1} \\\\ = -\\alpha_{199}C_{198}^{n} + (1-\\beta_{199})C_{199}^{n} - 2\\cdot \\gamma_{199}(S_{max}-E)$$\n",
      "\n",
      "and since the BC at the lower bound is $C(0,t) = 0$, we don't need add any term in the first equation. Thus, the boundary condition vector $B$ should look like:\n",
      "\n",
      "\\begin{align}\\left[ \\begin{array}{cccccc}\n",
      " 0 \\\\\n",
      " \\vdots \\\\\n",
      " 0 \\\\\n",
      " -2\\gamma_{199}(S_{max}-E) \\end{array} \\right]\n",
      "\\end{align} "
     ]
    },
    {
     "cell_type": "code",
     "collapsed": false,
     "input": [
      "def RHS(C, alpha, beta, gamma, S_max, E):\n",
      "    \"\"\"generate and return the RHS vector b.\n",
      "    \n",
      "    Arguments:\n",
      "        C:       array of the price of call option at previous time step\n",
      "        alpha:   array of coefficients on lower diagnoal\n",
      "        beta:    array of coefficients on diagnoal\n",
      "        gamma:   array of coefficients on upper diagnoal\n",
      "        S_max:   upper bound of stock price\n",
      "        E:       exercise price\n",
      "    \n",
      "    Returns:\n",
      "        b:       RHS vector\n",
      "    \"\"\"\n",
      "    # diagonal of A_star\n",
      "    d = numpy.diag(1-beta)\n",
      "    # upper diagonal of A_star\n",
      "    ud = numpy.diag(-gamma[:-1], 1)\n",
      "    # lower diagonal of A_star\n",
      "    ld = numpy.diag(-alpha[1:], -1)\n",
      "    \n",
      "    A_star = d + ud + ld\n",
      "    b = numpy.dot(A_star,C[1:-1])\n",
      "    # add BC for the right bound (the last element)\n",
      "    b[-1] += -2*gamma[-1] * (S_max-E) \n",
      "    \n",
      "    return b"
     ],
     "language": "python",
     "metadata": {},
     "outputs": [],
     "prompt_number": 51
    },
    {
     "cell_type": "markdown",
     "metadata": {},
     "source": [
      "Knowing the value of matrix $A$ and vector $b$, we can solve the linear system using the numpy.linalg.solve function. "
     ]
    },
    {
     "cell_type": "code",
     "collapsed": false,
     "input": [
      "def CrankNicolson(C, A, N, alpha, beta, gamma, S_max, E):\n",
      "    \"\"\"using Crank-Nicolson scheme to solve the Black-Scholes equation for the call option price.\n",
      "    \n",
      "    Arguments:\n",
      "        C:       array of the price of call option\n",
      "        A:       LHS coefficient matrix\n",
      "        N:       total number of time steps       \n",
      "        alpha:   array of coefficients on lower diagnoal\n",
      "        beta:    array of coefficients on diagnoal\n",
      "        gamma:   array of coefficients on upper diagnoal\n",
      "        S_max:   upper bound of stock price\n",
      "        E:       exercise price\n",
      "    \n",
      "    Returns:\n",
      "        C:       array of the price of call option\n",
      "    \"\"\"\n",
      "    for t in range(N):\n",
      "        b = RHS(C, alpha, beta, gamma, S_max, E)\n",
      "        # use numpy.linalg.solve\n",
      "        C[1:-1] = solve(A,b)\n",
      "    return C"
     ],
     "language": "python",
     "metadata": {},
     "outputs": [],
     "prompt_number": 52
    },
    {
     "cell_type": "markdown",
     "metadata": {},
     "source": [
      "We first set the initial condition and boundary condition, and calculate the $\\alpha$, $\\beta$, $\\gamma$ coefficient arrays. Since the Crank-Nicolson scheme is unconditionally stable, we can choose a larger value for time step $dt$."
     ]
    },
    {
     "cell_type": "code",
     "collapsed": false,
     "input": [
      "from scipy.linalg import solve\n",
      "N = 200        # number of time steps\n",
      "dt = T/N       # time step\n",
      "\n",
      "# initial condition & boundary condition\n",
      "C = s - E\n",
      "C = numpy.clip(C, 0, S_max-E)\n",
      "\n",
      "# calculating the coefficient arrays\n",
      "index = numpy.arange(1,M)\n",
      "\n",
      "alpha = dt/4 * (r*index - sigma**2*index**2)\n",
      "beta = dt/2 * (r + sigma**2*index**2)\n",
      "gamma = -dt/4 * (r*index + sigma**2*index**2)"
     ],
     "language": "python",
     "metadata": {},
     "outputs": [],
     "prompt_number": 53
    },
    {
     "cell_type": "markdown",
     "metadata": {},
     "source": [
      "Given the coefficient arrays $\\alpha$, $\\beta$, $\\gamma$, we can produce the LHS matrix $A$, update the RHS vector $b$ at each time step, and solve the linear system again. Finally we have the solution by Crank-Nicolson scheme.  "
     ]
    },
    {
     "cell_type": "code",
     "collapsed": false,
     "input": [
      "A = LHS_matrix(M, alpha, beta, gamma)\n",
      "C_imp = CrankNicolson(C, A, N, alpha, beta, gamma, S_max, E)\n",
      "print 'the price of the call option should be around {}, \\\n",
      "if the price of stock is 20 dollar.'.format(C_imp[int(M/2)])"
     ],
     "language": "python",
     "metadata": {},
     "outputs": [
      {
       "output_type": "stream",
       "stream": "stdout",
       "text": [
        "the price of the call option should be around 10.2469995107, if the price of stock is 20 dollar.\n"
       ]
      }
     ],
     "prompt_number": 54
    },
    {
     "cell_type": "markdown",
     "metadata": {},
     "source": [
      "Plot the result and compare with the solution of explicit scheme (FTCS)."
     ]
    },
    {
     "cell_type": "code",
     "collapsed": false,
     "input": [
      "pyplot.figure(figsize=(8,5), dpi=100)\n",
      "pyplot.plot(s,C_exp,color='#20b2aa', ls='-.', lw=3, label='FTCS');\n",
      "pyplot.plot(s,C_imp,color='#cd3333', ls='--', lw=3, label='Crank-Nicolson')\n",
      "pyplot.xlabel('Current Price of the Stock (S)')\n",
      "pyplot.ylabel('Price of the call option (C)')\n",
      "pyplot.legend(loc='upper left',prop={'size':15});"
     ],
     "language": "python",
     "metadata": {},
     "outputs": [
      {
       "metadata": {},
       "output_type": "display_data",
       "png": "[encoded data removed]",
       "text": [
        "<matplotlib.figure.Figure at 0x106778710>"
       ]
      }
     ],
     "prompt_number": 55
    },
    {
     "cell_type": "markdown",
     "metadata": {},
     "source": [
      "These two solutions are very close to each other. Are they both correct? Let us compare them with an exact solution. "
     ]
    },
    {
     "cell_type": "heading",
     "level": 5,
     "metadata": {},
     "source": [
      "An Exact Solution of Black-Scholes Equation"
     ]
    },
    {
     "cell_type": "markdown",
     "metadata": {},
     "source": [
      "As for an European call option problem, mathematicians provide us with an analytical solution ([here](http://www.francoiscoppex.com/blackscholes.pdf) is the derivation of the solution): \n",
      "\n",
      "$$\\begin{equation}\n",
      "C(S,t) = SN(d_1) -Ee^{-r(T-t)}N(d_2)\n",
      "\\end{equation}$$\n",
      "\n",
      "where $N(x)$ is the cumulative distribution function for a standardised normal random variable (we use *norm.cdf* to calculate it in python), given by\n",
      "\n",
      "$$\\begin{equation}\n",
      "N(x) = \\frac{1}{\\sqrt{2\\pi}} \\int_{-\\infty}^{x} {e^{-\\frac{1}{2}y^2}dy}\n",
      "\\end{equation}$$\n",
      "\n",
      "and\n",
      "\n",
      "$$\\begin{equation}\\begin{split}\n",
      "d_1 & = \\frac{ln(S/E)+(r + \\frac{1}{2}\\sigma^2)T}{\\sigma \\sqrt{(T-t)}}\\\\\n",
      "d_2 & = d_1 - \\sigma \\sqrt{(T-t)}\n",
      "\\end{split}\\end{equation}$$\n",
      "\n",
      "Recall that we change variable $t^* = T-t$ when we are dealing with the initial condition, so the analytical solution should be:\n",
      "\n",
      "$$\\begin{equation}\n",
      "C(S,t^*) = SN(d_1) -Ee^{-rT}N(d_2)\n",
      "\\end{equation}$$\n",
      "\n",
      "and \n",
      "\n",
      "$$\\begin{equation}\\begin{split}\n",
      "d_1 & = \\frac{ln(S/E)+(r + \\frac{1}{2}\\sigma^2)T}{\\sigma \\sqrt{t*}}\\\\\n",
      "d_2 & = d_1 - \\sigma \\sqrt{t^*}\n",
      "\\end{split}\\end{equation}$$"
     ]
    },
    {
     "cell_type": "code",
     "collapsed": false,
     "input": [
      "from scipy.stats import norm\n",
      "\n",
      "C_exact = numpy.zeros(M+1)\n",
      "\n",
      "d1 = (numpy.log1p(s/E) + (r+0.5*sigma**2)*T) / (sigma * numpy.sqrt(T))\n",
      "d2 = d1 - (sigma * numpy.sqrt(T))\n",
      "C_exact = s * norm.cdf(d1) - E*numpy.exp(-r*T) * norm.cdf(d2)\n",
      "C_exact = numpy.clip(C_exact, 0, numpy.inf)"
     ],
     "language": "python",
     "metadata": {},
     "outputs": [],
     "prompt_number": 56
    },
    {
     "cell_type": "markdown",
     "metadata": {},
     "source": [
      "Don't forget there is still an underlying condition that when $S<E$, we won't exercise the call option. Therefore, the price of call option should be zero rather than a negative value. This explains the if condition inside the loop.\n",
      "\n",
      "Let plot the exact solution together with our numerical results."
     ]
    },
    {
     "cell_type": "code",
     "collapsed": false,
     "input": [
      "pyplot.figure(figsize=(8,5), dpi=100)\n",
      "pyplot.plot(s, C_exp, color='#20b2aa', ls='-.', lw=3, label='FTCS');\n",
      "pyplot.plot(s, C_imp, color='#cd3333', ls='--', lw=3, label='Crank-Nicolson')\n",
      "pyplot.plot(s, C_exact, color='#FFFF00', ls='-', lw=2, label='Analytical')\n",
      "pyplot.xlabel('Current Price of the Stock (S)')\n",
      "pyplot.ylabel('Price of the call option (C)')\n",
      "pyplot.legend(loc='upper left',prop={'size':15});"
     ],
     "language": "python",
     "metadata": {},
     "outputs": [
      {
       "metadata": {},
       "output_type": "display_data",
       "png": "[encoded data removed]",
       "text": [
        "<matplotlib.figure.Figure at 0x1065ce750>"
       ]
      }
     ],
     "prompt_number": 57
    },
    {
     "cell_type": "markdown",
     "metadata": {},
     "source": [
      "Provided the fact that the stock is currently trading at 20 dollars, our pricing strategy of the call option is shown below. The result of Crank-Nicolson method is slightly closer to analytical result. "
     ]
    },
    {
     "cell_type": "code",
     "collapsed": false,
     "input": [
      "print 'FTCS:           C(S=20, t=0) = {}'.format(C_exp[int(M/2)])\n",
      "print 'Crank Nicolson: C(S=20, t=0) = {}'.format(C_imp[int(M/2)])\n",
      "print 'Exact Solution: C(S=20, t=0) = {}'.format(C_exact[int(M/2)])"
     ],
     "language": "python",
     "metadata": {},
     "outputs": [
      {
       "output_type": "stream",
       "stream": "stdout",
       "text": [
        "FTCS:           C(S=20, t=0) = 10.2470001259\n",
        "Crank Nicolson: C(S=20, t=0) = 10.2469995107\n",
        "Exact Solution: C(S=20, t=0) = 10.2469009391\n"
       ]
      }
     ],
     "prompt_number": 58
    },
    {
     "cell_type": "markdown",
     "metadata": {},
     "source": [
      "Using the parameters: $r = 0.1$, $\\sigma = 0.4$,  $E = 10$, we can generate a pricing strategy by changing current the stock price (S) and expiry time (T) as the table below (given by Crank-Nicolson scheme):"
     ]
    },
    {
     "cell_type": "code",
     "collapsed": false,
     "input": [
      "import pandas"
     ],
     "language": "python",
     "metadata": {},
     "outputs": [],
     "prompt_number": 59
    },
    {
     "cell_type": "code",
     "collapsed": false,
     "input": [
      "%%file data.csv\n",
      "S = 15,S = 20,S = 25\n",
      "T = 3 months,5.2604,10.2470,15.2459\n",
      "T = 6 months,5.5637,10.4914,15.4728\n",
      "T = 9 months,5.8744,10.7354,15.6766"
     ],
     "language": "python",
     "metadata": {},
     "outputs": [
      {
       "output_type": "stream",
       "stream": "stdout",
       "text": [
        "Overwriting data.csv\n"
       ]
      }
     ],
     "prompt_number": 60
    },
    {
     "cell_type": "code",
     "collapsed": false,
     "input": [
      "pandas.read_csv('data.csv')"
     ],
     "language": "python",
     "metadata": {},
     "outputs": [
      {
       "html": [
        "<div style=\"max-height:1000px;max-width:1500px;overflow:auto;\">\n",
        "<table border=\"1\" class=\"dataframe\">\n",
        "  <thead>\n",
        "    <tr style=\"text-align: right;\">\n",
        "      <th></th>\n",
        "      <th>S = 15</th>\n",
        "      <th>S = 20</th>\n",
        "      <th>S = 25</th>\n",
        "    </tr>\n",
        "  </thead>\n",
        "  <tbody>\n",
        "    <tr>\n",
        "      <th>T = 3 months</th>\n",
        "      <td> 5.2604</td>\n",
        "      <td> 10.2470</td>\n",
        "      <td> 15.2459</td>\n",
        "    </tr>\n",
        "    <tr>\n",
        "      <th>T = 6 months</th>\n",
        "      <td> 5.5637</td>\n",
        "      <td> 10.4914</td>\n",
        "      <td> 15.4728</td>\n",
        "    </tr>\n",
        "    <tr>\n",
        "      <th>T = 9 months</th>\n",
        "      <td> 5.8744</td>\n",
        "      <td> 10.7354</td>\n",
        "      <td> 15.6766</td>\n",
        "    </tr>\n",
        "  </tbody>\n",
        "</table>\n",
        "</div>"
       ],
       "metadata": {},
       "output_type": "pyout",
       "prompt_number": 61,
       "text": [
        "              S = 15   S = 20   S = 25\n",
        "T = 3 months  5.2604  10.2470  15.2459\n",
        "T = 6 months  5.5637  10.4914  15.4728\n",
        "T = 9 months  5.8744  10.7354  15.6766"
       ]
      }
     ],
     "prompt_number": 61
    },
    {
     "cell_type": "heading",
     "level": 5,
     "metadata": {},
     "source": [
      "Reference"
     ]
    },
    {
     "cell_type": "markdown",
     "metadata": {},
     "source": [
      "1. Dura, Gina, and Ana-Maria Mo\u015fneagu. \"Numerical approximation of Black-Scholes equation.\" Annals of the Alexandru Ioan Cuza University-Mathematics 56.1 (2010): 39-64.\n",
      "2. Stewart, Ian. In Pursuit of the Unknown: 17 Equations That Changed the World Paperback, Basic Books, 2013. Print\n",
      "3. \"Option (finance).\" Wikipedia. Wikimedia Foundation, n.d. Web. 13 Jan. 2015.\n",
      "4. Fischer Black and Myron Scholes (1973). The Pricing of Options and Corporate Liabilities, Journal of Political Economy, Vol. 81, No. 3 (May - Jun., 1973), pp. 637-654\n",
      "5. Francois Coppex. Solving the Black-Scholes equation: a demystification. 2009. <http://www.francoiscoppex.com/blackscholes.pdf> \n",
      "6. Jiang, L. (2005). Mathematical modeling and methods of option pricing. Singapore: World Scientific."
     ]
    },
    {
     "cell_type": "code",
     "collapsed": false,
     "input": [
      "from IPython.core.display import HTML\n",
      "css_file = '../styles/numericalmoocstyle.css'\n",
      "HTML(open(css_file, \"r\").read())"
     ],
     "language": "python",
     "metadata": {},
     "outputs": [
      {
       "html": [
        "<link href='http://fonts.googleapis.com/css?family=Alegreya+Sans:100,300,400,500,700,800,900,100italic,300italic,400italic,500italic,700italic,800italic,900italic' rel='stylesheet' type='text/css'>\n",
        "<link href='http://fonts.googleapis.com/css?family=Arvo:400,700,400italic' rel='stylesheet' type='text/css'>\n",
        "<link href='http://fonts.googleapis.com/css?family=PT+Mono' rel='stylesheet' type='text/css'>\n",
        "<link href='http://fonts.googleapis.com/css?family=Shadows+Into+Light' rel='stylesheet' type='text/css'>\n",
        "<link href='http://fonts.googleapis.com/css?family=Nixie+One' rel='stylesheet' type='text/css'>\n",
        "<style>\n",
        "\n",
        "@font-face {\n",
        "    font-family: \"Computer Modern\";\n",
        "    src: url('http://mirrors.ctan.org/fonts/cm-unicode/fonts/otf/cmunss.otf');\n",
        "}\n",
        "\n",
        "#notebook_panel { /* main background */\n",
        "    background: rgb(245,245,245);\n",
        "}\n",
        "\n",
        "div.cell { /* set cell width */\n",
        "    width: 750px;\n",
        "}\n",
        "\n",
        "div #notebook { /* centre the content */\n",
        "    background: #fff; /* white background for content */\n",
        "    width: 1000px;\n",
        "    margin: auto;\n",
        "    padding-left: 0em;\n",
        "}\n",
        "\n",
        "#notebook li { /* More space between bullet points */\n",
        "margin-top:0.8em;\n",
        "}\n",
        "\n",
        "/* draw border around running cells */\n",
        "div.cell.border-box-sizing.code_cell.running { \n",
        "    border: 1px solid #111;\n",
        "}\n",
        "\n",
        "/* Put a solid color box around each cell and its output, visually linking them*/\n",
        "div.cell.code_cell {\n",
        "    background-color: rgb(256,256,256); \n",
        "    border-radius: 0px; \n",
        "    padding: 0.5em;\n",
        "    margin-left:1em;\n",
        "    margin-top: 1em;\n",
        "}\n",
        "\n",
        "div.text_cell_render{\n",
        "    font-family: 'Alegreya Sans' sans-serif;\n",
        "    line-height: 140%;\n",
        "    font-size: 125%;\n",
        "    font-weight: 400;\n",
        "    width:600px;\n",
        "    margin-left:auto;\n",
        "    margin-right:auto;\n",
        "}\n",
        "\n",
        "\n",
        "/* Formatting for header cells */\n",
        ".text_cell_render h1 {\n",
        "    font-family: 'Nixie One', serif;\n",
        "    font-style:regular;\n",
        "    font-weight: 400;    \n",
        "    font-size: 45pt;\n",
        "    line-height: 100%;\n",
        "    color: rgb(0,51,102);\n",
        "    margin-bottom: 0.5em;\n",
        "    margin-top: 0.5em;\n",
        "    display: block;\n",
        "}\t\n",
        ".text_cell_render h2 {\n",
        "    font-family: 'Nixie One', serif;\n",
        "    font-weight: 400;\n",
        "    font-size: 30pt;\n",
        "    line-height: 100%;\n",
        "    color: rgb(0,51,102);\n",
        "    margin-bottom: 0.1em;\n",
        "    margin-top: 0.3em;\n",
        "    display: block;\n",
        "}\t\n",
        "\n",
        ".text_cell_render h3 {\n",
        "    font-family: 'Nixie One', serif;\n",
        "    margin-top:16px;\n",
        "\tfont-size: 22pt;\n",
        "    font-weight: 600;\n",
        "    margin-bottom: 3px;\n",
        "    font-style: regular;\n",
        "    color: rgb(102,102,0);\n",
        "}\n",
        "\n",
        ".text_cell_render h4 {    /*Use this for captions*/\n",
        "    font-family: 'Nixie One', serif;\n",
        "    font-size: 14pt;\n",
        "    text-align: center;\n",
        "    margin-top: 0em;\n",
        "    margin-bottom: 2em;\n",
        "    font-style: regular;\n",
        "}\n",
        "\n",
        ".text_cell_render h5 {  /*Use this for small titles*/\n",
        "    font-family: 'Nixie One', sans-serif;\n",
        "    font-weight: 400;\n",
        "    font-size: 16pt;\n",
        "    color: rgb(163,0,0);\n",
        "    font-style: italic;\n",
        "    margin-bottom: .1em;\n",
        "    margin-top: 0.8em;\n",
        "    display: block;\n",
        "}\n",
        "\n",
        ".text_cell_render h6 { /*use this for copyright note*/\n",
        "    font-family: 'PT Mono', sans-serif;\n",
        "    font-weight: 300;\n",
        "    font-size: 9pt;\n",
        "    line-height: 100%;\n",
        "    color: grey;\n",
        "    margin-bottom: 1px;\n",
        "    margin-top: 1px;\n",
        "}\n",
        "\n",
        ".CodeMirror{\n",
        "        font-family: \"PT Mono\";\n",
        "        font-size: 90%;\n",
        "}\n",
        "\n",
        "</style>\n",
        "<script>\n",
        "    MathJax.Hub.Config({\n",
        "                        TeX: {\n",
        "                           extensions: [\"AMSmath.js\"],\n",
        "                           equationNumbers: { autoNumber: \"AMS\", useLabelIds: true}\n",
        "                           },\n",
        "                tex2jax: {\n",
        "                    inlineMath: [ ['$','$'], [\"\\\\(\",\"\\\\)\"] ],\n",
        "                    displayMath: [ ['$$','$$'], [\"\\\\[\",\"\\\\]\"] ]\n",
        "                },\n",
        "                displayAlign: 'center', // Change this to 'center' to center equations.\n",
        "                \"HTML-CSS\": {\n",
        "                    styles: {'.MathJax_Display': {\"margin\": 4}}\n",
        "                }\n",
        "        });\n",
        "</script>\n"
       ],
       "metadata": {},
       "output_type": "pyout",
       "prompt_number": 62,
       "text": [
        "<IPython.core.display.HTML at 0x1066aaad0>"
       ]
      }
     ],
     "prompt_number": 62
    }
   ],
   "metadata": {}
  }
 ]
}